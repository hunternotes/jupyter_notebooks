{
 "cells": [
  {
   "cell_type": "markdown",
   "metadata": {},
   "source": [
    "# Shodan Hunting"
   ]
  },
  {
   "cell_type": "code",
   "execution_count": 3,
   "metadata": {},
   "outputs": [],
   "source": [
    "import shodan"
   ]
  },
  {
   "cell_type": "markdown",
   "metadata": {},
   "source": [
    "## Connect to the API"
   ]
  },
  {
   "cell_type": "code",
   "execution_count": 20,
   "metadata": {},
   "outputs": [],
   "source": [
    "SHODAN_API_KEY = \"\"\n",
    "api = shodan.Shodan(SHODAN_API_KEY)"
   ]
  },
  {
   "cell_type": "markdown",
   "metadata": {},
   "source": [
    "### Search old IIS servers "
   ]
  },
  {
   "cell_type": "code",
   "execution_count": 5,
   "metadata": {},
   "outputs": [],
   "source": [
    "def search_old_iis(question):\n",
    "    # Wrap the request in a try/ except block to catch errors\n",
    "    try:\n",
    "        # Search Shodan\n",
    "        results = api.search(question)\n",
    "\n",
    "        # Show the results\n",
    "        print('Results found: {}'.format(results['total']))\n",
    "        for result in results['matches']:\n",
    "            if \"Microsoft-IIS/7\" in result['data']:\n",
    "                print('IP: {}'.format(result['ip_str']))\n",
    "                #print(result['data'])\n",
    "                #print('')\n",
    "    except shodan.APIError as e:\n",
    "        print('Error: {}'.format(e))"
   ]
  },
  {
   "cell_type": "markdown",
   "metadata": {},
   "source": [
    "#### Search old IIS in your ORG"
   ]
  },
  {
   "cell_type": "code",
   "execution_count": 6,
   "metadata": {},
   "outputs": [
    {
     "name": "stdout",
     "output_type": "stream",
     "text": [
      "Error: Invalid API key\n"
     ]
    }
   ],
   "source": [
    "#question = input(\"your search query:\")\n",
    "search_old_iis('iis org:\"My_company_name_goes_here\"')"
   ]
  },
  {
   "cell_type": "code",
   "execution_count": 7,
   "metadata": {},
   "outputs": [
    {
     "name": "stdout",
     "output_type": "stream",
     "text": [
      "Error: Invalid API key\n"
     ]
    }
   ],
   "source": [
    "search_old_iis('iis org:\"My_company_name_goes_here\"')"
   ]
  },
  {
   "cell_type": "markdown",
   "metadata": {},
   "source": [
    "### Generic search"
   ]
  },
  {
   "cell_type": "code",
   "execution_count": 8,
   "metadata": {},
   "outputs": [],
   "source": [
    "def generic_search(question):\n",
    "    # Wrap the request in a try/ except block to catch errors\n",
    "    try:\n",
    "        # Search Shodan\n",
    "        results = api.search(question)\n",
    "\n",
    "        # Show the results\n",
    "        print('Results found: {}'.format(results['total']))\n",
    "        for result in results['matches']:\n",
    "            print('IP: {}'.format(result['ip_str']))\n",
    "            print(result['data'])\n",
    "            print('')\n",
    "    except shodan.APIError as e:\n",
    "        print('Error: {}'.format(e))"
   ]
  },
  {
   "cell_type": "code",
   "execution_count": 9,
   "metadata": {},
   "outputs": [
    {
     "name": "stdout",
     "output_type": "stream",
     "text": [
      "Error: Invalid API key\n"
     ]
    }
   ],
   "source": [
    "generic_search(\"vuln:'CVE-2020-5902' org:'My_company_name_goes_here'\")"
   ]
  },
  {
   "cell_type": "markdown",
   "metadata": {},
   "source": [
    "### Example search"
   ]
  },
  {
   "cell_type": "code",
   "execution_count": 19,
   "metadata": {},
   "outputs": [
    {
     "name": "stdout",
     "output_type": "stream",
     "text": [
      "vuln:CVE-2019-19781 org:myorg\n",
      "Results found: 0\n",
      "vuln:CVE 2019-11510 org:myorg\n",
      "Results found: 0\n",
      "vuln:CVE 2018-13379 org:myorg\n",
      "Results found: 0\n",
      "vuln:CVE 2020-5902 org:myorg\n",
      "Results found: 0\n",
      "vuln:CVE 2020-15505 org:myorg\n",
      "Results found: 0\n",
      "vuln:CVE-2017-11882 org:myorg\n",
      "Results found: 0\n",
      "vuln:CVE-2019-11580 org:myorg\n",
      "Results found: 0\n",
      "vuln:CVE-2018-7600 org:myorg\n",
      "Results found: 0\n",
      "vuln:CVE 2019-18935 org:myorg\n",
      "Results found: 0\n",
      "vuln:CVE-2019-0604 org:myorg\n",
      "Results found: 0\n",
      "vuln:CVE-2020-0787 org:myorg\n",
      "Results found: 0\n",
      "vuln:CVE-2020-1472 org:myorg\n",
      "Results found: 0\n"
     ]
    }
   ],
   "source": [
    "# https://us-cert.cisa.gov/ncas/alerts/aa21-209a\n",
    "\n",
    "vulns = [\"CVE-2019-19781\", \"CVE 2019-11510\", \"CVE 2018-13379\", \"CVE 2020-5902\", \\\n",
    "         \"CVE 2020-15505\", \"CVE-2017-11882\", \"CVE-2019-11580\", \"CVE-2018-7600\", \\\n",
    "        \"CVE 2019-18935\", \"CVE-2019-0604\", \"CVE-2020-0787\", \"CVE-2020-1472\"]\n",
    "\n",
    "for cve in vulns:\n",
    "    print(f'vuln:{cve} org:myorg')\n",
    "    generic_search(f'vuln:{cve} org:myorg')\n",
    "    "
   ]
  },
  {
   "cell_type": "code",
   "execution_count": null,
   "metadata": {},
   "outputs": [],
   "source": []
  }
 ],
 "metadata": {
  "kernelspec": {
   "display_name": "Python 3 (ipykernel)",
   "language": "python",
   "name": "python3"
  },
  "language_info": {
   "codemirror_mode": {
    "name": "ipython",
    "version": 3
   },
   "file_extension": ".py",
   "mimetype": "text/x-python",
   "name": "python",
   "nbconvert_exporter": "python",
   "pygments_lexer": "ipython3",
   "version": "3.8.7"
  }
 },
 "nbformat": 4,
 "nbformat_minor": 4
}
